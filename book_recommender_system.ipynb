{
 "cells": [
  {
   "cell_type": "code",
   "execution_count": null,
   "id": "3ae0ff70-0e32-47a0-9827-1c488829c5e7",
   "metadata": {},
   "outputs": [],
   "source": []
  }
 ],
 "metadata": {
  "kernelspec": {
   "display_name": "",
   "name": ""
  },
  "language_info": {
   "name": ""
  }
 },
 "nbformat": 4,
 "nbformat_minor": 5
}
